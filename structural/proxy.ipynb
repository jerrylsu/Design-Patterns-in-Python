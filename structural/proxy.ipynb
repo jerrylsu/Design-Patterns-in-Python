{
 "cells": [
  {
   "cell_type": "markdown",
   "id": "b465622f-34fa-4aea-a8b0-8f1ae5cb0f19",
   "metadata": {},
   "source": [
    "![proxy](./proxy.png)"
   ]
  },
  {
   "cell_type": "markdown",
   "id": "4fa73c78-9b90-4787-9287-10df860d24e7",
   "metadata": {
    "jp-MarkdownHeadingCollapsed": true,
    "tags": []
   },
   "source": [
    "代理模式用于向类添加功能的地方，而无需改变它的接口。RealSubject是主类。Client应该使用Proxy或者RealSubject，无需任何代码改动。因此Proxy和RealSubject必须具有相同的接口。代理模式的用法：对RealSubject对象的日志和访问控制。\n",
    "\n",
    "https://refactoring.guru/design-patterns/proxy/python/example\n",
    "\n",
    "https://python-3-patterns-idioms-test.readthedocs.io/en/latest/Fronting.html\n",
    "\n",
    "在不改变其接口的情况下，向一个对象添加功能或逻辑（例如日志记录、缓存、授权）。"
   ]
  },
  {
   "cell_type": "code",
   "execution_count": 3,
   "id": "4ce279ce-337c-4de4-b3cb-4abb69ca30f5",
   "metadata": {},
   "outputs": [],
   "source": [
    "from typing import Union"
   ]
  },
  {
   "cell_type": "code",
   "execution_count": 4,
   "id": "160b28db-2ecd-4bc1-9001-c20ac3c8802b",
   "metadata": {},
   "outputs": [],
   "source": [
    "class Subject:\n",
    "    \"\"\"\n",
    "    RealSubject和Proxy应该拥有相同的接口，因为客户端应该可以使用RealSubject和Proxy，没有任何代码改动。\n",
    "\n",
    "    并非所有时候都需要Subject接口，仅仅是为了使得RealSubject和Proxy接口保持一致。关键是客户端应该是能够互换使用RealSubject或Proxy，而无需更改代码。\n",
    "    \"\"\"\n",
    "\n",
    "    def do_the_job(self, user: str) -> None:     # 统一RealSubject和Proxy的接口\n",
    "        raise NotImplementedError()"
   ]
  },
  {
   "cell_type": "code",
   "execution_count": 5,
   "id": "1e856e40-056a-4e8d-a2a2-3184aeb508f0",
   "metadata": {},
   "outputs": [],
   "source": [
    "class RealSubject(Subject):\n",
    "    \"\"\"\n",
    "    This is the main job doer. External services like payment gateways can be a\n",
    "    good example.\n",
    "    \"\"\"\n",
    "\n",
    "    def do_the_job(self, user: str) -> None:     # 继承Subject，保持接口统一\n",
    "        print(f\"I am doing the job for {user}\")"
   ]
  },
  {
   "cell_type": "code",
   "execution_count": 6,
   "id": "fb26ce67-cd02-4a4d-a37e-f925a41d1020",
   "metadata": {},
   "outputs": [],
   "source": [
    "class Proxy(Subject):\n",
    "    def __init__(self) -> None:\n",
    "        self._real_subject = RealSubject()        # 实例化时指定需要代理的对象\n",
    "\n",
    "    def do_the_job(self, user: str) -> None:      # 继承Subject，保持接口统一\n",
    "        \"\"\"代理使用示例：日志记录和授权访问\n",
    "        \"\"\"\n",
    "\n",
    "        print(f\"[log] Doing the job for {user} is requested.\")\n",
    "\n",
    "        if user == \"admin\":\n",
    "            self._real_subject.do_the_job(user)   # 包装self._real_subject对象\n",
    "        else:\n",
    "            print(\"[log] I can do the job just for `admins`.\")"
   ]
  },
  {
   "cell_type": "code",
   "execution_count": 7,
   "id": "e5f74c8d-39a8-40e6-a99a-5118658c1b9d",
   "metadata": {},
   "outputs": [],
   "source": [
    "def client(job_doer: Union[RealSubject, Proxy], user: str) -> None:\n",
    "    job_doer.do_the_job(user)     # 对于客户端来说，RealSubject和Proxy接口保持一致。能够互换使用RealSubject或Proxy，而无需更改代码！！！"
   ]
  },
  {
   "cell_type": "code",
   "execution_count": 14,
   "id": "2968ec2a-a369-4822-b2e1-8f3179590c0b",
   "metadata": {},
   "outputs": [],
   "source": [
    "proxy = Proxy()"
   ]
  },
  {
   "cell_type": "code",
   "execution_count": 15,
   "id": "fad6e0d4-9018-46e8-bbaf-ee6615d679b8",
   "metadata": {},
   "outputs": [],
   "source": [
    "real_subject = RealSubject()"
   ]
  },
  {
   "cell_type": "code",
   "execution_count": 16,
   "id": "0192b891-5d79-4a9c-a1a6-5703c03e8ce1",
   "metadata": {},
   "outputs": [
    {
     "name": "stdout",
     "output_type": "stream",
     "text": [
      "I am doing the job for admin\n"
     ]
    }
   ],
   "source": [
    "client(real_subject, \"admin\")"
   ]
  },
  {
   "cell_type": "code",
   "execution_count": 17,
   "id": "00475854-7a17-43ae-bcc2-05690b13cb1a",
   "metadata": {},
   "outputs": [
    {
     "name": "stdout",
     "output_type": "stream",
     "text": [
      "I am doing the job for jerry\n"
     ]
    }
   ],
   "source": [
    "client(real_subject, \"jerry\")"
   ]
  },
  {
   "cell_type": "markdown",
   "id": "6500ee60-658a-4ec4-ab0e-c70d2e1264a9",
   "metadata": {},
   "source": [
    "proxy增加日志记录和访问授权"
   ]
  },
  {
   "cell_type": "code",
   "execution_count": 18,
   "id": "9eb7231b-fb53-422e-a43d-8819eabb6de8",
   "metadata": {},
   "outputs": [
    {
     "name": "stdout",
     "output_type": "stream",
     "text": [
      "[log] Doing the job for admin is requested.\n",
      "I am doing the job for admin\n"
     ]
    }
   ],
   "source": [
    "client(proxy, \"admin\")"
   ]
  },
  {
   "cell_type": "code",
   "execution_count": 19,
   "id": "e0f1165c-08f2-4d7b-9d7e-35db2c879ddb",
   "metadata": {},
   "outputs": [
    {
     "name": "stdout",
     "output_type": "stream",
     "text": [
      "[log] Doing the job for jerry is requested.\n",
      "[log] I can do the job just for `admins`.\n"
     ]
    }
   ],
   "source": [
    "client(proxy, \"jerry\")"
   ]
  }
 ],
 "metadata": {
  "kernelspec": {
   "display_name": "Python [conda env:blog]",
   "language": "python",
   "name": "conda-env-blog-py"
  },
  "language_info": {
   "codemirror_mode": {
    "name": "ipython",
    "version": 3
   },
   "file_extension": ".py",
   "mimetype": "text/x-python",
   "name": "python",
   "nbconvert_exporter": "python",
   "pygments_lexer": "ipython3",
   "version": "3.8.3"
  }
 },
 "nbformat": 4,
 "nbformat_minor": 5
}
