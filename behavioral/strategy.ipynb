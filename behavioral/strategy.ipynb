{
 "cells": [
  {
   "cell_type": "markdown",
   "id": "b465622f-34fa-4aea-a8b0-8f1ae5cb0f19",
   "metadata": {},
   "source": [
    "![proxy](./img/strategy.png)"
   ]
  },
  {
   "cell_type": "markdown",
   "id": "4fa73c78-9b90-4787-9287-10df860d24e7",
   "metadata": {
    "jp-MarkdownHeadingCollapsed": true,
    "tags": []
   },
   "source": [
    "策略是一种行为设计模式，它将一组行为转换为对象，并使其在原始上下文对象内部能够相互替换。\n",
    "\n",
    "\n",
    "原始对象被称为上下文，它包含指向策略对象的引用并将执行行为的任务分派给策略对象。为了改变上下文完成其工作的方式，其他对象可以使用另一个对象来替换当前链接的策略对象。"
   ]
  },
  {
   "cell_type": "code",
   "execution_count": 10,
   "id": "4ce279ce-337c-4de4-b3cb-4abb69ca30f5",
   "metadata": {},
   "outputs": [],
   "source": [
    "from abc import ABC, abstractmethod\n",
    "from typing import List"
   ]
  },
  {
   "cell_type": "code",
   "execution_count": 11,
   "id": "1e856e40-056a-4e8d-a2a2-3184aeb508f0",
   "metadata": {},
   "outputs": [],
   "source": [
    "class Strategy(ABC):\n",
    "    \"\"\"Strategy接口声明所有算法支持的通用操作。\n",
    "\n",
    "    Context使用这个接口调用由ConcreteStrategy定义的算法。\n",
    "    \"\"\"\n",
    "    @abstractmethod\n",
    "    def do_algorithm(self, data: List):\n",
    "        pass\n"
   ]
  },
  {
   "cell_type": "code",
   "execution_count": 12,
   "id": "fb26ce67-cd02-4a4d-a37e-f925a41d1020",
   "metadata": {},
   "outputs": [],
   "source": [
    "\"\"\"\n",
    "ConcreteStrategy继承Strategy接口实现算法。接口使得ConcreteStrategy对象在Context可以互换。\n",
    "\"\"\"\n",
    "\n",
    "class ConcreteStrategyA(Strategy):\n",
    "    def do_algorithm(self, data: List) -> List:\n",
    "        return sorted(data)\n",
    "\n",
    "\n",
    "class ConcreteStrategyB(Strategy):\n",
    "    def do_algorithm(self, data: List) -> List:\n",
    "        return reversed(sorted(data))"
   ]
  },
  {
   "cell_type": "code",
   "execution_count": 13,
   "id": "160b28db-2ecd-4bc1-9001-c20ac3c8802b",
   "metadata": {},
   "outputs": [],
   "source": [
    "class Context:\n",
    "    \"\"\"Context定义了Client感兴趣的接口。\n",
    "    \"\"\"\n",
    "    def __init__(self, strategy: Strategy) -> None:\n",
    "        \"\"\"通常Context通过构造器设置strategy，但是同样提供setter方法在运行时改变它。\n",
    "        \"\"\"\n",
    "        self._strategy = strategy\n",
    "        \n",
    "    @property\n",
    "    def strategy(self) -> Strategy:\n",
    "        \"\"\"Context对象维护一个Strategy对象的引用。Context不知道strategy的具体类。\n",
    "        它通过Strategy接口可以与所有strategy一起工作。\n",
    "        \"\"\"\n",
    "        return self._strategy\n",
    "    \n",
    "    @strategy.setter\n",
    "    def strategy(self, strategy: Strategy) -> None:\n",
    "        \"\"\"通常Context允许在运行时替换一个Strategy对象。\n",
    "        \"\"\"\n",
    "        self._startegy = strategy\n",
    "        \n",
    "    def do_some_business_logic(self) -> None:\n",
    "        \"\"\"Context将一些工作委托给Strategy对象，而不是自己实现多个算法版本。\n",
    "        \"\"\"\n",
    "        print(\"Context: Sorting data using the strategy (not sure how it'll do it)\")\n",
    "        result = self._strategy.do_algorithm([\"a\", \"b\", \"c\", \"d\", \"e\"])\n",
    "        print(\",\".join(result))"
   ]
  },
  {
   "cell_type": "code",
   "execution_count": 14,
   "id": "f57543e4-d1e7-4800-bbff-7e4b8f63fd97",
   "metadata": {},
   "outputs": [
    {
     "name": "stdout",
     "output_type": "stream",
     "text": [
      "Client: Strategy is set to normal sorting.\n",
      "Context: Sorting data using the strategy (not sure how it'll do it)\n",
      "a,b,c,d,e\n",
      "\n",
      "Client: Strategy is set to reverse sorting.\n",
      "Context: Sorting data using the strategy (not sure how it'll do it)\n",
      "a,b,c,d,e\n"
     ]
    }
   ],
   "source": [
    "# Client选择具体策略ConcreteStrategy传递给Context。\n",
    "context = Context(ConcreteStrategyA())\n",
    "print(\"Client: Strategy is set to normal sorting.\")\n",
    "context.do_some_business_logic()\n",
    "print()\n",
    "\n",
    "print(\"Client: Strategy is set to reverse sorting.\")\n",
    "context.strategy = ConcreteStrategyB()\n",
    "context.do_some_business_logic()"
   ]
  }
 ],
 "metadata": {
  "kernelspec": {
   "display_name": "Python [conda env:blog]",
   "language": "python",
   "name": "conda-env-blog-py"
  },
  "language_info": {
   "codemirror_mode": {
    "name": "ipython",
    "version": 3
   },
   "file_extension": ".py",
   "mimetype": "text/x-python",
   "name": "python",
   "nbconvert_exporter": "python",
   "pygments_lexer": "ipython3",
   "version": "3.8.3"
  }
 },
 "nbformat": 4,
 "nbformat_minor": 5
}
