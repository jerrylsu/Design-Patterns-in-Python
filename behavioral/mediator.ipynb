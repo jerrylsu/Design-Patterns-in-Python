{
 "cells": [
  {
   "cell_type": "markdown",
   "id": "b465622f-34fa-4aea-a8b0-8f1ae5cb0f19",
   "metadata": {},
   "source": [
    "![proxy](./img/mediator.png)"
   ]
  },
  {
   "cell_type": "markdown",
   "id": "4fa73c78-9b90-4787-9287-10df860d24e7",
   "metadata": {
    "jp-MarkdownHeadingCollapsed": true,
    "tags": []
   },
   "source": [
    "中介者是一种行为设计模式， 让程序组件通过特殊的中介者对象进行间接沟通， 达到减少组件之间依赖关系的目的。\n",
    "\n",
    "中介者能使得程序更易于修改和扩展， 而且能更方便地对独立的组件进行复用， 因为它们不再依赖于很多其他的类。"
   ]
  },
  {
   "cell_type": "code",
   "execution_count": 1,
   "id": "4ce279ce-337c-4de4-b3cb-4abb69ca30f5",
   "metadata": {},
   "outputs": [],
   "source": [
    "from abc import ABC"
   ]
  },
  {
   "cell_type": "code",
   "execution_count": 22,
   "id": "1e856e40-056a-4e8d-a2a2-3184aeb508f0",
   "metadata": {},
   "outputs": [],
   "source": [
    "class Mediator(ABC):\n",
    "    \"\"\"中介者接口声明由Colleague使用的notify方法，用于通知中介者各种事件。中介者进而响应这些事件，并传递执行其他Colleague。\n",
    "    \"\"\"\n",
    "\n",
    "    def notify(self, sender: object, event: str) -> None:\n",
    "        pass\n",
    "\n",
    "\n",
    "class ConcreteMediator(Mediator):\n",
    "    def __init__(self, colleague1: ConcreteColleague1, colleague2: ConcreteColleague2) -> None:\n",
    "        self._colleague1 = colleague1\n",
    "        self._colleague1.mediator = self\n",
    "        self._colleague2 = colleague2\n",
    "        self._colleague2.mediator = self\n",
    "\n",
    "    def notify(self, sender: object, event: str) -> None:\n",
    "        if event == \"A\":\n",
    "            print(\"Mediator reacts on A and triggers following operations:\")\n",
    "            self._colleague2.do_c()\n",
    "        elif event == \"D\":\n",
    "            print(\"Mediator reacts on D and triggers following operations:\")\n",
    "            self._colleague1.do_b()\n",
    "            self._colleague2.do_c()"
   ]
  },
  {
   "cell_type": "code",
   "execution_count": 23,
   "id": "fb26ce67-cd02-4a4d-a37e-f925a41d1020",
   "metadata": {},
   "outputs": [],
   "source": [
    "class BaseColleague:\n",
    "    \"\"\"BaseColleague提供在Colleague对象内存储Mediator实例引用的基础功能。\n",
    "    \"\"\"\n",
    "    \n",
    "    # Colleague实例化时可以不设置中介者的引用，在中介者引用该实例Colleague时再设置引用！！！实现Colleague与Mediator之间的解耦合。\n",
    "    def __init__(self, mediator: Mediator = None) -> None:\n",
    "        self._mediator = mediator\n",
    "        \n",
    "    @property\n",
    "    def mediator(self) -> Mediator:\n",
    "        return self._mediator\n",
    "    \n",
    "    @mediator.setter\n",
    "    def mediator(self, mediator: Mediator) -> None:\n",
    "        self._mediator = mediator\n",
    "\n",
    "\n",
    "\"\"\"ConcreteColleague实现各种功能。它们不依赖其他Colleague，同样也不依赖任何Mediator。实现Colleague与Colleague，Colleague和Mediator之间的解耦。\n",
    "\"\"\"\n",
    "\n",
    "\n",
    "class ConcreteColleague1(BaseColleague):\n",
    "    \n",
    "    def do_a(self) -> None:\n",
    "        print(\"Colleague1 does A.\")\n",
    "        self.mediator.notify(self, \"A\")\n",
    "        \n",
    "    def do_b(self) -> None:\n",
    "        print(\"Colleague1 does B.\")\n",
    "        self.mediator.notify(self, \"B\")\n",
    "            \n",
    "\n",
    "\n",
    "class ConcreteColleague2(BaseColleague):\n",
    "    \n",
    "    def do_c(self) -> None:\n",
    "        print(\"Colleague2 does C.\")\n",
    "        self.mediator.notify(self, \"C\")\n",
    "        \n",
    "    def do_d(self) -> None:\n",
    "        print(\"Colleague2 does D.\")\n",
    "        self.mediator.notify(self, \"D\")\n",
    "        "
   ]
  },
  {
   "cell_type": "code",
   "execution_count": 4,
   "id": "6771c931-52cc-4562-bb69-e8da25c5c454",
   "metadata": {},
   "outputs": [
    {
     "name": "stdout",
     "output_type": "stream",
     "text": [
      "Colleague1 does A.\n"
     ]
    },
    {
     "ename": "AttributeError",
     "evalue": "'NoneType' object has no attribute 'notify'",
     "output_type": "error",
     "traceback": [
      "\u001b[0;31m---------------------------------------------------------------------------\u001b[0m",
      "\u001b[0;31mAttributeError\u001b[0m                            Traceback (most recent call last)",
      "\u001b[0;32m/tmp/ipykernel_26008/3039073107.py\u001b[0m in \u001b[0;36m<module>\u001b[0;34m\u001b[0m\n\u001b[1;32m      5\u001b[0m \u001b[0;31m# mediator = ConcreteMediator(c1, c2)\u001b[0m\u001b[0;34m\u001b[0m\u001b[0;34m\u001b[0m\u001b[0;34m\u001b[0m\u001b[0m\n\u001b[1;32m      6\u001b[0m \u001b[0;34m\u001b[0m\u001b[0m\n\u001b[0;32m----> 7\u001b[0;31m \u001b[0mc1\u001b[0m\u001b[0;34m.\u001b[0m\u001b[0mdo_a\u001b[0m\u001b[0;34m(\u001b[0m\u001b[0;34m)\u001b[0m\u001b[0;34m\u001b[0m\u001b[0;34m\u001b[0m\u001b[0m\n\u001b[0m",
      "\u001b[0;32m/tmp/ipykernel_26008/4156239975.py\u001b[0m in \u001b[0;36mdo_a\u001b[0;34m(self)\u001b[0m\n\u001b[1;32m     24\u001b[0m     \u001b[0;32mdef\u001b[0m \u001b[0mdo_a\u001b[0m\u001b[0;34m(\u001b[0m\u001b[0mself\u001b[0m\u001b[0;34m)\u001b[0m \u001b[0;34m->\u001b[0m \u001b[0;32mNone\u001b[0m\u001b[0;34m:\u001b[0m\u001b[0;34m\u001b[0m\u001b[0;34m\u001b[0m\u001b[0m\n\u001b[1;32m     25\u001b[0m         \u001b[0mprint\u001b[0m\u001b[0;34m(\u001b[0m\u001b[0;34m\"Colleague1 does A.\"\u001b[0m\u001b[0;34m)\u001b[0m\u001b[0;34m\u001b[0m\u001b[0;34m\u001b[0m\u001b[0m\n\u001b[0;32m---> 26\u001b[0;31m         \u001b[0mself\u001b[0m\u001b[0;34m.\u001b[0m\u001b[0mmediator\u001b[0m\u001b[0;34m.\u001b[0m\u001b[0mnotify\u001b[0m\u001b[0;34m(\u001b[0m\u001b[0mself\u001b[0m\u001b[0;34m,\u001b[0m \u001b[0;34m\"A\"\u001b[0m\u001b[0;34m)\u001b[0m\u001b[0;34m\u001b[0m\u001b[0;34m\u001b[0m\u001b[0m\n\u001b[0m\u001b[1;32m     27\u001b[0m \u001b[0;34m\u001b[0m\u001b[0m\n\u001b[1;32m     28\u001b[0m     \u001b[0;32mdef\u001b[0m \u001b[0mdo_b\u001b[0m\u001b[0;34m(\u001b[0m\u001b[0mself\u001b[0m\u001b[0;34m)\u001b[0m \u001b[0;34m->\u001b[0m \u001b[0;32mNone\u001b[0m\u001b[0;34m:\u001b[0m\u001b[0;34m\u001b[0m\u001b[0;34m\u001b[0m\u001b[0m\n",
      "\u001b[0;31mAttributeError\u001b[0m: 'NoneType' object has no attribute 'notify'"
     ]
    }
   ],
   "source": [
    "# client code\n",
    "c1 = ConcreteColleague1()  # ConcreteColleague实例化时可以不设置中介者的引用，在中介者引用该实例ConcreteColleague1时再设置引用！！！实现Colleague与Mediator之间的解耦合。\n",
    "c2 = ConcreteColleague2()\n",
    "\n",
    "# mediator = ConcreteMediator(c1, c2)\n",
    "\n",
    "c1.do_a()"
   ]
  },
  {
   "cell_type": "code",
   "execution_count": 25,
   "id": "0d38ea8f-19b0-40fb-9790-da498886d5d0",
   "metadata": {},
   "outputs": [
    {
     "name": "stdout",
     "output_type": "stream",
     "text": [
      "Colleague1 does A.\n",
      "Mediator reacts on A and triggers following operations:\n",
      "Colleague2 does C.\n"
     ]
    }
   ],
   "source": [
    "mediator = ConcreteMediator(c1, c2)\n",
    "c1.do_a()"
   ]
  }
 ],
 "metadata": {
  "kernelspec": {
   "display_name": "Python [conda env:blog]",
   "language": "python",
   "name": "conda-env-blog-py"
  },
  "language_info": {
   "codemirror_mode": {
    "name": "ipython",
    "version": 3
   },
   "file_extension": ".py",
   "mimetype": "text/x-python",
   "name": "python",
   "nbconvert_exporter": "python",
   "pygments_lexer": "ipython3",
   "version": "3.8.3"
  }
 },
 "nbformat": 4,
 "nbformat_minor": 5
}
