{
 "cells": [
  {
   "cell_type": "markdown",
   "id": "b465622f-34fa-4aea-a8b0-8f1ae5cb0f19",
   "metadata": {},
   "source": [
    "![proxy](./img/observer.png)"
   ]
  },
  {
   "cell_type": "markdown",
   "id": "4fa73c78-9b90-4787-9287-10df860d24e7",
   "metadata": {
    "jp-MarkdownHeadingCollapsed": true,
    "tags": []
   },
   "source": [
    "观察者是一种行为设计模式， 允许一个对象将其状态的改变通知其他对象\n",
    "\n",
    "观察者模式提供了一种作用于任何实现了订阅者接口的对象的机制， 可对其事件进行订阅和取消订阅。"
   ]
  },
  {
   "cell_type": "code",
   "execution_count": 5,
   "id": "4ce279ce-337c-4de4-b3cb-4abb69ca30f5",
   "metadata": {},
   "outputs": [],
   "source": [
    "from abc import ABC, abstractmethod\n",
    "from typing import List\n",
    "from random import randrange"
   ]
  },
  {
   "cell_type": "code",
   "execution_count": 19,
   "id": "1e856e40-056a-4e8d-a2a2-3184aeb508f0",
   "metadata": {},
   "outputs": [],
   "source": [
    "class Subject(ABC):\n",
    "    \"\"\"Subject接口声明了管理订阅者的方法集合。\n",
    "    \"\"\"\n",
    "    \n",
    "    @abstractmethod\n",
    "    def attach(self, observer: Observer) -> None:\n",
    "        \"\"\"添加一个订阅者到Subject。\"\"\"\n",
    "        pass\n",
    "    \n",
    "    @abstractmethod\n",
    "    def detach(self, observer: Observer) -> None:\n",
    "        \"\"\"从Subject删除一个订阅者。\"\"\"\n",
    "        pass\n",
    "    \n",
    "    @abstractmethod\n",
    "    def notify(self) -> None:\n",
    "        \"\"\"通知所有观察者关于一个事件。\"\"\"\n",
    "        pass\n",
    "\n",
    "\n",
    "class ConcreteSubject(Subject):\n",
    "    \"\"\"Subject拥有一些重要的状态，并在状态发生变化时通知观察者。\n",
    "    \"\"\"\n",
    "    \n",
    "    # 为了简单起见，Subject的状态（对所有订阅者来说都是必不可少）存储在此变量中。\n",
    "    _state: int = None\n",
    "    \n",
    "    # 订阅者列表。在现实生活中，订阅者列表可以存储得更全面（按事件类型等分类）。\n",
    "    _observers: List[Observer] = []\n",
    "    \n",
    "    def attach(self, observer: Observer) -> None:\n",
    "        if observer not in self._observers:\n",
    "            print(\"Subject: Attached an observer.\")\n",
    "            self._observers.append(observer)\n",
    "        \n",
    "    def detach(self, observer: Observer) -> None:\n",
    "            self._observers.remove(observer)\n",
    "            \n",
    "    def notify(self) -> None:\n",
    "        \"\"\"在每一个订阅者中触发更新。\n",
    "        \"\"\"\n",
    "        print(\"Subject: Notifying observers...\")\n",
    "        for observer in self._observers:\n",
    "            observer.update(self)\n",
    "    \n",
    "    def some_business_logic(self) -> None:\n",
    "        \"\"\"通常，订阅逻辑只是 Subject 真正可以做的一小部分。主题通常包含一些重要的业务逻辑，当重要的事情即将发生（或之后）时，它会触发通知notify()方法。\n",
    "        \"\"\"\n",
    "\n",
    "        print(\"\\nSubject: I'm doing something important.\")\n",
    "        self._state = randrange(0, 10)\n",
    "\n",
    "        print(f\"Subject: My state has just changed to: {self._state}\")\n",
    "        self.notify()"
   ]
  },
  {
   "cell_type": "code",
   "execution_count": 20,
   "id": "fb26ce67-cd02-4a4d-a37e-f925a41d1020",
   "metadata": {},
   "outputs": [],
   "source": [
    "class Observer(ABC):\n",
    "    \"\"\"Observer接口声明update方法，Subject使用。\n",
    "    \"\"\"\n",
    "    \n",
    "    @abstractmethod\n",
    "    def update(self, subject: Subject):\n",
    "        pass\n",
    "\n",
    "\n",
    "\"\"\"ConcreteObserver对由发布的更新做出反应\n",
    "\"\"\"\n",
    "\n",
    "\n",
    "class ConcreteObserverA(Observer):\n",
    "    \n",
    "    def update(self, subject: Subject):\n",
    "        if subject._state < 3:\n",
    "            print(\"ConcreteObserverA: Reacted to the event\")\n",
    "            \n",
    "\n",
    "\n",
    "class ConcreteObserverB(Observer):\n",
    "    \n",
    "    def update(self, subject: Subject):\n",
    "        if subject._state == 0 or subject._state >= 2:\n",
    "            print(\"ConcreteObserverB: Reacted to the event\")\n",
    "        "
   ]
  },
  {
   "cell_type": "code",
   "execution_count": 21,
   "id": "ea6fc39c-f101-45f4-a378-51e1f1b9efae",
   "metadata": {},
   "outputs": [],
   "source": [
    "subject = ConcreteSubject()"
   ]
  },
  {
   "cell_type": "code",
   "execution_count": 22,
   "id": "0aba9567-6676-43b2-85c9-fa4766875b89",
   "metadata": {},
   "outputs": [],
   "source": [
    "observer_a = ConcreteObserverA()\n",
    "observer_b = ConcreteObserverB()"
   ]
  },
  {
   "cell_type": "code",
   "execution_count": 23,
   "id": "396982b1-d4f9-4037-a6f0-52f6b08271c4",
   "metadata": {},
   "outputs": [
    {
     "name": "stdout",
     "output_type": "stream",
     "text": [
      "Subject: Attached an observer.\n"
     ]
    }
   ],
   "source": [
    "subject.attach(observer_a)"
   ]
  },
  {
   "cell_type": "code",
   "execution_count": 24,
   "id": "151e7e5a-7ced-49cf-b9a1-a72db8726f1a",
   "metadata": {},
   "outputs": [
    {
     "name": "stdout",
     "output_type": "stream",
     "text": [
      "Subject: Attached an observer.\n"
     ]
    }
   ],
   "source": [
    "subject.attach(observer_b)"
   ]
  },
  {
   "cell_type": "code",
   "execution_count": 25,
   "id": "05a925a2-3f32-4aa1-aac6-1fe1c8456185",
   "metadata": {},
   "outputs": [
    {
     "name": "stdout",
     "output_type": "stream",
     "text": [
      "\n",
      "Subject: I'm doing something important.\n",
      "Subject: My state has just changed to: 6\n",
      "Subject: Notifying observers...\n",
      "ConcreteObserverB: Reacted to the event\n"
     ]
    }
   ],
   "source": [
    "subject.some_business_logic()"
   ]
  },
  {
   "cell_type": "code",
   "execution_count": 28,
   "id": "52140027-481c-48b9-8884-e4f7b56b3995",
   "metadata": {},
   "outputs": [
    {
     "name": "stdout",
     "output_type": "stream",
     "text": [
      "\n",
      "Subject: I'm doing something important.\n",
      "Subject: My state has just changed to: 1\n",
      "Subject: Notifying observers...\n",
      "ConcreteObserverA: Reacted to the event\n"
     ]
    }
   ],
   "source": [
    "subject.some_business_logic()"
   ]
  },
  {
   "cell_type": "code",
   "execution_count": 29,
   "id": "ab2c9eba-00bd-42db-b354-4c3228b92da3",
   "metadata": {},
   "outputs": [
    {
     "data": {
      "text/plain": [
       "[<__main__.ConcreteObserverA at 0x7ff6f0026160>,\n",
       " <__main__.ConcreteObserverB at 0x7ff6f0026130>]"
      ]
     },
     "execution_count": 29,
     "metadata": {},
     "output_type": "execute_result"
    }
   ],
   "source": [
    "subject._observers"
   ]
  },
  {
   "cell_type": "code",
   "execution_count": 30,
   "id": "9fe1b9e8-4c53-4504-891d-40e963ed6558",
   "metadata": {},
   "outputs": [
    {
     "name": "stdout",
     "output_type": "stream",
     "text": [
      "\n",
      "Subject: I'm doing something important.\n",
      "Subject: My state has just changed to: 5\n",
      "Subject: Notifying observers...\n",
      "ConcreteObserverB: Reacted to the event\n"
     ]
    }
   ],
   "source": [
    "subject.some_business_logic()"
   ]
  },
  {
   "cell_type": "code",
   "execution_count": 32,
   "id": "61c31d47-81b1-42d9-b018-dc6f35a5e46c",
   "metadata": {},
   "outputs": [],
   "source": [
    " subject.detach(observer_a)"
   ]
  },
  {
   "cell_type": "code",
   "execution_count": 33,
   "id": "306c8e12-134a-4430-87bd-0b0370c79f8b",
   "metadata": {},
   "outputs": [
    {
     "data": {
      "text/plain": [
       "[<__main__.ConcreteObserverB at 0x7ff6f0026130>]"
      ]
     },
     "execution_count": 33,
     "metadata": {},
     "output_type": "execute_result"
    }
   ],
   "source": [
    "subject._observers"
   ]
  }
 ],
 "metadata": {
  "kernelspec": {
   "display_name": "Python [conda env:blog]",
   "language": "python",
   "name": "conda-env-blog-py"
  },
  "language_info": {
   "codemirror_mode": {
    "name": "ipython",
    "version": 3
   },
   "file_extension": ".py",
   "mimetype": "text/x-python",
   "name": "python",
   "nbconvert_exporter": "python",
   "pygments_lexer": "ipython3",
   "version": "3.8.3"
  }
 },
 "nbformat": 4,
 "nbformat_minor": 5
}
