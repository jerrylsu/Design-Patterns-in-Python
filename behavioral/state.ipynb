{
 "cells": [
  {
   "cell_type": "markdown",
   "id": "b465622f-34fa-4aea-a8b0-8f1ae5cb0f19",
   "metadata": {},
   "source": [
    "![proxy](./img/state.png)"
   ]
  },
  {
   "cell_type": "markdown",
   "id": "4fa73c78-9b90-4787-9287-10df860d24e7",
   "metadata": {
    "jp-MarkdownHeadingCollapsed": true,
    "tags": []
   },
   "source": [
    "状态是一种行为设计模式， 让你能在一个对象的内部状态变化时改变其行为。\n",
    "\n",
    "\n",
    "该模式将与State状态相关的行为抽取到独立的ConcreteState状态类中， 让Context对象将工作委派给State类的实例， 而不是Context对象自行进行处理。"
   ]
  },
  {
   "cell_type": "code",
   "execution_count": 2,
   "id": "4ce279ce-337c-4de4-b3cb-4abb69ca30f5",
   "metadata": {},
   "outputs": [],
   "source": [
    "from abc import ABC, abstractmethod"
   ]
  },
  {
   "cell_type": "code",
   "execution_count": 40,
   "id": "1e856e40-056a-4e8d-a2a2-3184aeb508f0",
   "metadata": {},
   "outputs": [],
   "source": [
    "class State(ABC):\n",
    "    \"\"\"State接口声明所有算法支持的通用操作。\n",
    "    \n",
    "    State基类声明了所有ConcreteState都使用的方法\n",
    "    \"\"\"\n",
    "    @abstractmethod\n",
    "    def handle(self, context: Context):\n",
    "        pass"
   ]
  },
  {
   "cell_type": "code",
   "execution_count": 53,
   "id": "fb26ce67-cd02-4a4d-a37e-f925a41d1020",
   "metadata": {},
   "outputs": [],
   "source": [
    "\"\"\"\n",
    "ConcreteState继承State接口实现各种与Context相关的行为。\n",
    "\"\"\"\n",
    "\n",
    "class ConcreteStateA(State):\n",
    "    \n",
    "    def handle(self, context: Context):\n",
    "        count = context.count\n",
    "        \n",
    "        if count > 0:\n",
    "            print(f\"Get count success.\")\n",
    "            context.count -= 1\n",
    "        \n",
    "        if context.count == 0:\n",
    "            context.state = ConcreteStateB()\n",
    "            \n",
    "\n",
    "\n",
    "class ConcreteStateB(State):\n",
    "    \n",
    "    def handle(self, context: Context):\n",
    "        count = context.count\n",
    "        \n",
    "        if count == 0:\n",
    "            print(\"Get count failed.\")\n",
    "            context.count = 5\n",
    "            print(f\"Set count: {context.count} success.\")\n",
    "            context.state = ConcreteStateA()\n",
    "        "
   ]
  },
  {
   "cell_type": "code",
   "execution_count": 54,
   "id": "160b28db-2ecd-4bc1-9001-c20ac3c8802b",
   "metadata": {},
   "outputs": [],
   "source": [
    "class Context:\n",
    "    \"\"\"Context定义了Client感兴趣的接口。\n",
    "    它同样维护了一个State子类实例的引用，用来表示当前Context对象的状态。\n",
    "    \"\"\"\n",
    "    def __init__(self, state: State) -> None:\n",
    "        \"\"\"通常Context通过构造器设置count和state，\n",
    "        但是同样提供setter方法在运行时改变它们。\n",
    "        \"\"\"\n",
    "        self._count = 3\n",
    "        self._state = state        # Context对象获取State对象引用！！！\n",
    "    \n",
    "    @property\n",
    "    def count(self) -> int:\n",
    "        return self._count\n",
    "    \n",
    "    @count.setter\n",
    "    def count(self, count: int) -> None:\n",
    "        self._count = count\n",
    "        \n",
    "    @property\n",
    "    def state(self) -> State:\n",
    "        return self._state\n",
    "    \n",
    "    @state.setter\n",
    "    def state(self, state: State) -> None:\n",
    "        self._state = state\n",
    "        \n",
    "    def request(self) -> None:\n",
    "        \"\"\"Context将其部分行为委托给当前的State对象，而不是Context对象自行进行处理。\n",
    "        \"\"\"\n",
    "        self._state.handle(self)    # State对象获取Context对象引用！！！\n"
   ]
  },
  {
   "cell_type": "code",
   "execution_count": 55,
   "id": "f57543e4-d1e7-4800-bbff-7e4b8f63fd97",
   "metadata": {},
   "outputs": [],
   "source": [
    "# Client选择具体策略ConcreteStateA传递给Context。\n",
    "context = Context(ConcreteStateA())"
   ]
  },
  {
   "cell_type": "code",
   "execution_count": 56,
   "id": "84b263a2-821a-4af7-a08e-142501dca860",
   "metadata": {},
   "outputs": [
    {
     "name": "stdout",
     "output_type": "stream",
     "text": [
      "Get count success.\n"
     ]
    }
   ],
   "source": [
    "context.request()"
   ]
  },
  {
   "cell_type": "code",
   "execution_count": 57,
   "id": "29b85b80-d424-43d8-825d-f82a525cf4e4",
   "metadata": {},
   "outputs": [
    {
     "data": {
      "text/plain": [
       "<__main__.ConcreteStateA at 0x7fcc0c18cb80>"
      ]
     },
     "execution_count": 57,
     "metadata": {},
     "output_type": "execute_result"
    }
   ],
   "source": [
    "context.state"
   ]
  },
  {
   "cell_type": "code",
   "execution_count": 58,
   "id": "629f1395-4124-4ab7-9a90-add77c4851d9",
   "metadata": {},
   "outputs": [
    {
     "name": "stdout",
     "output_type": "stream",
     "text": [
      "Get count success.\n"
     ]
    }
   ],
   "source": [
    "context.request()"
   ]
  },
  {
   "cell_type": "code",
   "execution_count": 59,
   "id": "86924e61-4991-4935-921b-bb5e8825f447",
   "metadata": {},
   "outputs": [
    {
     "name": "stdout",
     "output_type": "stream",
     "text": [
      "Get count success.\n"
     ]
    }
   ],
   "source": [
    "context.request()"
   ]
  },
  {
   "cell_type": "code",
   "execution_count": 60,
   "id": "6f7cef79-d2d1-4388-a3b6-0bdc2f7b2930",
   "metadata": {},
   "outputs": [
    {
     "data": {
      "text/plain": [
       "0"
      ]
     },
     "execution_count": 60,
     "metadata": {},
     "output_type": "execute_result"
    }
   ],
   "source": [
    "context.count"
   ]
  },
  {
   "cell_type": "code",
   "execution_count": 61,
   "id": "04b2ea6f-5f28-4d5c-babf-93e3e0fc996c",
   "metadata": {},
   "outputs": [
    {
     "data": {
      "text/plain": [
       "<__main__.ConcreteStateB at 0x7fcc0c18c730>"
      ]
     },
     "execution_count": 61,
     "metadata": {},
     "output_type": "execute_result"
    }
   ],
   "source": [
    "context.state"
   ]
  },
  {
   "cell_type": "code",
   "execution_count": 62,
   "id": "da0e1b86-4d5e-4e64-a2b8-c4287f527e2b",
   "metadata": {},
   "outputs": [
    {
     "name": "stdout",
     "output_type": "stream",
     "text": [
      "Get count failed.\n",
      "Set count: 5 success.\n"
     ]
    }
   ],
   "source": [
    "context.request()"
   ]
  },
  {
   "cell_type": "code",
   "execution_count": 63,
   "id": "ca803254-f032-46a1-bb22-2c0d1be730d4",
   "metadata": {},
   "outputs": [
    {
     "data": {
      "text/plain": [
       "5"
      ]
     },
     "execution_count": 63,
     "metadata": {},
     "output_type": "execute_result"
    }
   ],
   "source": [
    "context.count"
   ]
  },
  {
   "cell_type": "code",
   "execution_count": 64,
   "id": "87369f19-ef28-42f7-b265-fa1a5d8269dd",
   "metadata": {},
   "outputs": [
    {
     "data": {
      "text/plain": [
       "<__main__.ConcreteStateA at 0x7fcc0c183940>"
      ]
     },
     "execution_count": 64,
     "metadata": {},
     "output_type": "execute_result"
    }
   ],
   "source": [
    "context.state"
   ]
  }
 ],
 "metadata": {
  "kernelspec": {
   "display_name": "Python [conda env:blog]",
   "language": "python",
   "name": "conda-env-blog-py"
  },
  "language_info": {
   "codemirror_mode": {
    "name": "ipython",
    "version": 3
   },
   "file_extension": ".py",
   "mimetype": "text/x-python",
   "name": "python",
   "nbconvert_exporter": "python",
   "pygments_lexer": "ipython3",
   "version": "3.8.3"
  }
 },
 "nbformat": 4,
 "nbformat_minor": 5
}
